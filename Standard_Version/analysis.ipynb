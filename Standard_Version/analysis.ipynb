{
 "cells": [
  {
   "cell_type": "markdown",
   "source": [
    "### Analysis for Wristband Project\n",
    "\n",
    "Aug/14/2023\n"
   ],
   "metadata": {
    "collapsed": false
   }
  },
  {
   "cell_type": "markdown",
   "source": [
    "## Import Dependency"
   ],
   "metadata": {
    "collapsed": false
   }
  },
  {
   "cell_type": "code",
   "execution_count": null,
   "outputs": [],
   "source": [
    "import numpy as np\n",
    "import pandas as pd"
   ],
   "metadata": {
    "collapsed": false
   }
  },
  {
   "cell_type": "markdown",
   "source": [
    "## Import Data"
   ],
   "metadata": {
    "collapsed": false
   }
  },
  {
   "cell_type": "markdown",
   "source": [
    "Here we use a high dimensional numpy array to keep our data"
   ],
   "metadata": {
    "collapsed": false
   }
  },
  {
   "cell_type": "code",
   "execution_count": null,
   "metadata": {
    "collapsed": true
   },
   "outputs": [],
   "source": [
    "# subject name to get data path\n",
    "\n",
    "subject_name = \"Hokin\"\n",
    "data_path = \"data/\" + subject_name\n",
    "section_numbers = 4\n",
    "\n",
    "open_data = np.empty([])\n",
    "close_data = np.empty([])\n",
    "rest_data = np.empty([])\n",
    "\n",
    "for i in range (section_numbers):\n",
    "    section_path = data_path + \"Section_Number_\" + str(i)\n",
    "    df = pd.read_csv(\"data/\" + subject + \"/point_training_AMH.csv\")\n",
    "\n"
   ]
  }
 ],
 "metadata": {
  "kernelspec": {
   "display_name": "Python 3",
   "language": "python",
   "name": "python3"
  },
  "language_info": {
   "codemirror_mode": {
    "name": "ipython",
    "version": 2
   },
   "file_extension": ".py",
   "mimetype": "text/x-python",
   "name": "python",
   "nbconvert_exporter": "python",
   "pygments_lexer": "ipython2",
   "version": "2.7.6"
  }
 },
 "nbformat": 4,
 "nbformat_minor": 0
}
