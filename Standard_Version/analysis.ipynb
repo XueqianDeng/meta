{
 "cells": [
  {
   "cell_type": "markdown",
   "source": [
    "### Analysis for Wristband Project\n",
    "\n",
    "Aug/14/2023\n"
   ],
   "metadata": {
    "collapsed": false
   }
  },
  {
   "cell_type": "markdown",
   "source": [
    "## Import Dependency"
   ],
   "metadata": {
    "collapsed": false
   }
  },
  {
   "cell_type": "code",
   "execution_count": 1,
   "outputs": [],
   "source": [
    "import numpy as np\n",
    "import pandas as pd"
   ],
   "metadata": {
    "collapsed": false
   }
  },
  {
   "cell_type": "markdown",
   "source": [
    "## Import Data"
   ],
   "metadata": {
    "collapsed": false
   }
  },
  {
   "cell_type": "markdown",
   "source": [
    "Load Data into an Array List"
   ],
   "metadata": {
    "collapsed": false
   }
  },
  {
   "cell_type": "code",
   "execution_count": 27,
   "metadata": {
    "collapsed": true
   },
   "outputs": [],
   "source": [
    "# subject name to get data path\n",
    "\n",
    "subject_name = \"Hokin\"\n",
    "data_path = \"data/\" + subject_name\n",
    "section_numbers = 4\n",
    "\n",
    "open_data = []\n",
    "close_data = []\n",
    "rest_data = []\n",
    "\n",
    "for i in range (section_numbers):\n",
    "    section_path = data_path + \"/Section_Number_\" + str(i)\n",
    "    open_df = pd.read_csv(section_path + \"/open.csv\")\n",
    "    open_data.append(open_df.values)\n",
    "    close_df = pd.read_csv(section_path + \"/close.csv\")\n",
    "    close_data.append(close_df.values)\n",
    "    rest_df = pd.read_csv(section_path + \"/rest.csv\")\n",
    "    rest_data.append(rest_df.values)"
   ]
  },
  {
   "cell_type": "markdown",
   "source": [
    "Checking if everything makes sense at this point"
   ],
   "metadata": {
    "collapsed": false
   }
  },
  {
   "cell_type": "code",
   "execution_count": 28,
   "outputs": [
    {
     "name": "stdout",
     "output_type": "stream",
     "text": [
      "4\n"
     ]
    }
   ],
   "source": [
    "print(len(rest_data))"
   ],
   "metadata": {
    "collapsed": false
   }
  },
  {
   "cell_type": "code",
   "execution_count": 30,
   "outputs": [
    {
     "name": "stdout",
     "output_type": "stream",
     "text": [
      "<class 'list'>\n"
     ]
    }
   ],
   "source": [
    "print(type(open_data))"
   ],
   "metadata": {
    "collapsed": false
   }
  },
  {
   "cell_type": "code",
   "execution_count": 31,
   "outputs": [
    {
     "name": "stdout",
     "output_type": "stream",
     "text": [
      "(2000, 21)\n"
     ]
    }
   ],
   "source": [
    "print(np.shape(open_data[2]))"
   ],
   "metadata": {
    "collapsed": false
   }
  },
  {
   "cell_type": "code",
   "execution_count": 32,
   "outputs": [
    {
     "name": "stdout",
     "output_type": "stream",
     "text": [
      "(18024, 21)\n"
     ]
    }
   ],
   "source": [
    "print(np.shape(rest_data[1]))"
   ],
   "metadata": {
    "collapsed": false
   }
  },
  {
   "cell_type": "code",
   "execution_count": null,
   "outputs": [],
   "source": [],
   "metadata": {
    "collapsed": false
   }
  }
 ],
 "metadata": {
  "kernelspec": {
   "display_name": "Python 3",
   "language": "python",
   "name": "python3"
  },
  "language_info": {
   "codemirror_mode": {
    "name": "ipython",
    "version": 2
   },
   "file_extension": ".py",
   "mimetype": "text/x-python",
   "name": "python",
   "nbconvert_exporter": "python",
   "pygments_lexer": "ipython2",
   "version": "2.7.6"
  }
 },
 "nbformat": 4,
 "nbformat_minor": 0
}
